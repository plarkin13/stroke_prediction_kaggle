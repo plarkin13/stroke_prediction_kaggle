{
 "cells": [
  {
   "cell_type": "markdown",
   "id": "c8883d93",
   "metadata": {},
   "source": [
    "## Road Map\n",
    "**[EDA Section](/eda.ipynb)**\n",
    "   - 1) Get data from Kaggle [source](https://www.kaggle.com/fedesoriano/stroke-prediction-dataset)    \n",
    "   - 2) Clean data\n",
    "   - 3) Explore data for trends via Exploratory Data Analysis (EDA)\n",
    "\n",
    "**[Model Section](/models.ipynb)** (you are here)\n",
    "   - 4) Determine best models, tweak hyper parameters\n",
    "   - 5) Review Top Model Performance \n",
    "   - 6) Explore Future Impact of Model"
   ]
  },
  {
   "cell_type": "markdown",
   "id": "8c0b575c",
   "metadata": {},
   "source": [
    "#### Imports and Data Prep"
   ]
  },
  {
   "cell_type": "code",
   "execution_count": 1,
   "id": "b8657719",
   "metadata": {},
   "outputs": [],
   "source": [
    "import pandas as pd\n",
    "import seaborn as sns\n",
    "import matplotlib.pyplot as plt\n",
    "import numpy as np\n",
    "import utilities.graphing_utils as utl"
   ]
  },
  {
   "cell_type": "code",
   "execution_count": 2,
   "id": "a2468d69",
   "metadata": {},
   "outputs": [],
   "source": [
    "df = pd.read_csv('healthcare-dataset-stroke-data.csv')\n",
    "df['bmi'].fillna(df['bmi'].median(), inplace = True) #fill na with median\n",
    "#dropping 'other' gender instance due to one-off outlier\n",
    "df.drop(df.index[df['gender'] == 'Other'], inplace = True)\n",
    "#processing smoking as an ordinal categorical variable\n",
    "df[\"smoking_status\"]=df[\"smoking_status\"].map({\"Unknown\": 0,\"never smoked\" : 1,\"formerly smoked\" : 2,\"smokes\" : 3})\n",
    "#get dummies for rest of categorical features\n",
    "df = pd.get_dummies(df, drop_first=True)"
   ]
  },
  {
   "cell_type": "markdown",
   "id": "682ef01e",
   "metadata": {},
   "source": [
    "## Modeling"
   ]
  },
  {
   "cell_type": "markdown",
   "id": "3e83e6ed",
   "metadata": {},
   "source": [
    "### Train Test Split and Scaling"
   ]
  },
  {
   "cell_type": "code",
   "execution_count": 3,
   "id": "8b5b868e",
   "metadata": {},
   "outputs": [],
   "source": [
    "from sklearn.model_selection import train_test_split, GridSearchCV, RandomizedSearchCV\n",
    "from sklearn.metrics import classification_report, plot_confusion_matrix, accuracy_score, recall_score\n",
    "from sklearn.neighbors import KNeighborsClassifier\n",
    "from sklearn.preprocessing import StandardScaler\n",
    "from sklearn.ensemble import RandomForestClassifier, ExtraTreesClassifier"
   ]
  },
  {
   "cell_type": "code",
   "execution_count": 4,
   "id": "32e4caee",
   "metadata": {},
   "outputs": [],
   "source": [
    "#declaring features and target variable. Using features with highest and lowest correlation to target variable Attrition\n",
    "X = df.drop(columns=['stroke', 'id'])\n",
    "y = df['stroke']\n",
    "\n",
    "X_train, X_test, y_train, y_test = train_test_split(X, y, random_state=42, stratify=y, test_size= 0.4)"
   ]
  },
  {
   "cell_type": "code",
   "execution_count": 5,
   "id": "bdc5deb0",
   "metadata": {},
   "outputs": [],
   "source": [
    "ss = StandardScaler()\n",
    "\n",
    "Xs_train = ss.fit_transform(X_train)\n",
    "Xs_test = ss.transform(X_test)"
   ]
  },
  {
   "cell_type": "code",
   "execution_count": 6,
   "id": "e6aed9cf",
   "metadata": {},
   "outputs": [
    {
     "data": {
      "text/plain": [
       "(0.9520391517128874, 0.9510763209393346)"
      ]
     },
     "execution_count": 6,
     "metadata": {},
     "output_type": "execute_result"
    }
   ],
   "source": [
    "rfc = RandomForestClassifier(max_depth=6)\n",
    "rfc.fit(Xs_train, y_train)\n",
    "rfc.score(Xs_train, y_train), rfc.score(Xs_test, y_test)"
   ]
  },
  {
   "cell_type": "code",
   "execution_count": 7,
   "id": "468ee1d0",
   "metadata": {
    "scrolled": true
   },
   "outputs": [
    {
     "data": {
      "text/html": [
       "<div>\n",
       "<style scoped>\n",
       "    .dataframe tbody tr th:only-of-type {\n",
       "        vertical-align: middle;\n",
       "    }\n",
       "\n",
       "    .dataframe tbody tr th {\n",
       "        vertical-align: top;\n",
       "    }\n",
       "\n",
       "    .dataframe thead th {\n",
       "        text-align: right;\n",
       "    }\n",
       "</style>\n",
       "<table border=\"1\" class=\"dataframe\">\n",
       "  <thead>\n",
       "    <tr style=\"text-align: right;\">\n",
       "      <th></th>\n",
       "      <th>Column Name</th>\n",
       "      <th>Feature Importance</th>\n",
       "    </tr>\n",
       "  </thead>\n",
       "  <tbody>\n",
       "    <tr>\n",
       "      <th>0</th>\n",
       "      <td>age</td>\n",
       "      <td>0.323959</td>\n",
       "    </tr>\n",
       "    <tr>\n",
       "      <th>3</th>\n",
       "      <td>avg_glucose_level</td>\n",
       "      <td>0.241338</td>\n",
       "    </tr>\n",
       "    <tr>\n",
       "      <th>4</th>\n",
       "      <td>bmi</td>\n",
       "      <td>0.160332</td>\n",
       "    </tr>\n",
       "    <tr>\n",
       "      <th>1</th>\n",
       "      <td>hypertension</td>\n",
       "      <td>0.056737</td>\n",
       "    </tr>\n",
       "    <tr>\n",
       "      <th>2</th>\n",
       "      <td>heart_disease</td>\n",
       "      <td>0.052480</td>\n",
       "    </tr>\n",
       "    <tr>\n",
       "      <th>5</th>\n",
       "      <td>smoking_status</td>\n",
       "      <td>0.046031</td>\n",
       "    </tr>\n",
       "    <tr>\n",
       "      <th>7</th>\n",
       "      <td>ever_married_Yes</td>\n",
       "      <td>0.033795</td>\n",
       "    </tr>\n",
       "    <tr>\n",
       "      <th>10</th>\n",
       "      <td>work_type_Self-employed</td>\n",
       "      <td>0.022721</td>\n",
       "    </tr>\n",
       "    <tr>\n",
       "      <th>6</th>\n",
       "      <td>gender_Male</td>\n",
       "      <td>0.019718</td>\n",
       "    </tr>\n",
       "    <tr>\n",
       "      <th>9</th>\n",
       "      <td>work_type_Private</td>\n",
       "      <td>0.019658</td>\n",
       "    </tr>\n",
       "  </tbody>\n",
       "</table>\n",
       "</div>"
      ],
      "text/plain": [
       "                Column Name  Feature Importance\n",
       "0                       age            0.323959\n",
       "3         avg_glucose_level            0.241338\n",
       "4                       bmi            0.160332\n",
       "1              hypertension            0.056737\n",
       "2             heart_disease            0.052480\n",
       "5            smoking_status            0.046031\n",
       "7          ever_married_Yes            0.033795\n",
       "10  work_type_Self-employed            0.022721\n",
       "6               gender_Male            0.019718\n",
       "9         work_type_Private            0.019658"
      ]
     },
     "execution_count": 7,
     "metadata": {},
     "output_type": "execute_result"
    }
   ],
   "source": [
    "d = {'Column Name':X_train.columns,'Feature Importance':rfc.feature_importances_}\n",
    "fi = pd.DataFrame(d)\n",
    "\n",
    "#top 10 features of importance\n",
    "fi.sort_values(by=['Feature Importance'], ascending = False).head(10)"
   ]
  },
  {
   "cell_type": "markdown",
   "id": "165f3991",
   "metadata": {},
   "source": [
    "### Metrics\n",
    "\n",
    "Goal with choosing significant metrics is that it will be better to predict too many potential stroke victims than miss stroke victims.\n",
    "- Recall rate is penalized whenever a false negative is predicted.\n",
    "- Accuracy is the number of classifications a model correctly predicts divided by the total number of predictions made.\n"
   ]
  },
  {
   "cell_type": "code",
   "execution_count": 8,
   "id": "fbf4e33f",
   "metadata": {},
   "outputs": [],
   "source": [
    "def get_metrics(test_model):\n",
    "    y_pred = test_model.predict(Xs_test)\n",
    "    recall = round(recall_score(y_test, y_pred),2)\n",
    "    accuracy = round(accuracy_score(y_test, y_pred),2)\n",
    "    print(f'Recall score for this data {recall},\\nAccuracy score for this data is {accuracy}')\n",
    "    \n",
    "    return plot_confusion_matrix(test_model, Xs_test, y_test, cmap='inferno')\n"
   ]
  },
  {
   "cell_type": "code",
   "execution_count": 9,
   "id": "25876a17",
   "metadata": {},
   "outputs": [
    {
     "name": "stdout",
     "output_type": "stream",
     "text": [
      "Recall score for this data 0.0,\n",
      "Accuracy score for this data is 0.95\n"
     ]
    },
    {
     "data": {
      "image/png": "[encoded data removed]",
      "text/plain": [
       "<Figure size 432x288 with 2 Axes>"
      ]
     },
     "metadata": {
      "needs_background": "light"
     },
     "output_type": "display_data"
    }
   ],
   "source": [
    "get_metrics(rfc);"
   ]
  },
  {
   "cell_type": "markdown",
   "id": "ebcf2fe9",
   "metadata": {},
   "source": [
    "### Modeling with Smote due to imbalanced classes"
   ]
  },
  {
   "cell_type": "code",
   "execution_count": 10,
   "id": "36d25fe3",
   "metadata": {},
   "outputs": [],
   "source": [
    "#reference: https://git.generalassemb.ly/plarkin13/8.07-imbalanced-data/blob/master/H_imbalanced_classes_solutions.ipynb\n",
    "from imblearn.under_sampling import RandomUnderSampler\n",
    "from imblearn.over_sampling import SMOTE, RandomOverSampler\n",
    "from collections import Counter\n",
    "from imblearn.pipeline import Pipeline\n",
    "\n",
    "smo = SMOTE()\n",
    "\n",
    "Xs_train_smote, y_train_smote = smo.fit_resample(Xs_train, y_train)"
   ]
  },
  {
   "cell_type": "code",
   "execution_count": 15,
   "id": "d9956614",
   "metadata": {},
   "outputs": [
    {
     "data": {
      "text/plain": [
       "(0.862482853223594, 0.7270058708414873)"
      ]
     },
     "execution_count": 15,
     "metadata": {},
     "output_type": "execute_result"
    }
   ],
   "source": [
    "rfc_smote = RandomForestClassifier(max_depth=6)\n",
    "rfc_smote.fit(Xs_train_smote, y_train_smote)\n",
    "rfc_smote.score(Xs_train_smote, y_train_smote), rfc_smote.score(Xs_test, y_test)"
   ]
  },
  {
   "cell_type": "code",
   "execution_count": 16,
   "id": "6136bd79",
   "metadata": {},
   "outputs": [
    {
     "data": {
      "text/html": [
       "<div>\n",
       "<style scoped>\n",
       "    .dataframe tbody tr th:only-of-type {\n",
       "        vertical-align: middle;\n",
       "    }\n",
       "\n",
       "    .dataframe tbody tr th {\n",
       "        vertical-align: top;\n",
       "    }\n",
       "\n",
       "    .dataframe thead th {\n",
       "        text-align: right;\n",
       "    }\n",
       "</style>\n",
       "<table border=\"1\" class=\"dataframe\">\n",
       "  <thead>\n",
       "    <tr style=\"text-align: right;\">\n",
       "      <th></th>\n",
       "      <th>Column Name</th>\n",
       "      <th>Feature Importance</th>\n",
       "    </tr>\n",
       "  </thead>\n",
       "  <tbody>\n",
       "    <tr>\n",
       "      <th>0</th>\n",
       "      <td>age</td>\n",
       "      <td>0.499237</td>\n",
       "    </tr>\n",
       "    <tr>\n",
       "      <th>5</th>\n",
       "      <td>smoking_status</td>\n",
       "      <td>0.121405</td>\n",
       "    </tr>\n",
       "    <tr>\n",
       "      <th>7</th>\n",
       "      <td>ever_married_Yes</td>\n",
       "      <td>0.119552</td>\n",
       "    </tr>\n",
       "    <tr>\n",
       "      <th>4</th>\n",
       "      <td>bmi</td>\n",
       "      <td>0.080425</td>\n",
       "    </tr>\n",
       "    <tr>\n",
       "      <th>3</th>\n",
       "      <td>avg_glucose_level</td>\n",
       "      <td>0.050245</td>\n",
       "    </tr>\n",
       "    <tr>\n",
       "      <th>1</th>\n",
       "      <td>hypertension</td>\n",
       "      <td>0.029538</td>\n",
       "    </tr>\n",
       "    <tr>\n",
       "      <th>11</th>\n",
       "      <td>work_type_children</td>\n",
       "      <td>0.024945</td>\n",
       "    </tr>\n",
       "    <tr>\n",
       "      <th>12</th>\n",
       "      <td>Residence_type_Urban</td>\n",
       "      <td>0.019675</td>\n",
       "    </tr>\n",
       "    <tr>\n",
       "      <th>2</th>\n",
       "      <td>heart_disease</td>\n",
       "      <td>0.016669</td>\n",
       "    </tr>\n",
       "    <tr>\n",
       "      <th>9</th>\n",
       "      <td>work_type_Private</td>\n",
       "      <td>0.014542</td>\n",
       "    </tr>\n",
       "  </tbody>\n",
       "</table>\n",
       "</div>"
      ],
      "text/plain": [
       "             Column Name  Feature Importance\n",
       "0                    age            0.499237\n",
       "5         smoking_status            0.121405\n",
       "7       ever_married_Yes            0.119552\n",
       "4                    bmi            0.080425\n",
       "3      avg_glucose_level            0.050245\n",
       "1           hypertension            0.029538\n",
       "11    work_type_children            0.024945\n",
       "12  Residence_type_Urban            0.019675\n",
       "2          heart_disease            0.016669\n",
       "9      work_type_Private            0.014542"
      ]
     },
     "execution_count": 16,
     "metadata": {},
     "output_type": "execute_result"
    }
   ],
   "source": [
    "d = {'Column Name': X_train.columns,'Feature Importance':rfc_smote.feature_importances_}\n",
    "fi = pd.DataFrame(d)\n",
    "\n",
    "#top 10 features of importance\n",
    "fi.sort_values(by=['Feature Importance'], ascending = False).head(10)"
   ]
  },
  {
   "cell_type": "code",
   "execution_count": 17,
   "id": "c149d18d",
   "metadata": {},
   "outputs": [
    {
     "name": "stdout",
     "output_type": "stream",
     "text": [
      "              precision    recall  f1-score   support\n",
      "\n",
      "           0       0.98      0.73      0.84      1944\n",
      "           1       0.12      0.69      0.20       100\n",
      "\n",
      "    accuracy                           0.73      2044\n",
      "   macro avg       0.55      0.71      0.52      2044\n",
      "weighted avg       0.94      0.73      0.80      2044\n",
      "\n"
     ]
    }
   ],
   "source": [
    "print(classification_report(y_test, rfc_smote.predict(Xs_test)))"
   ]
  },
  {
   "cell_type": "code",
   "execution_count": 18,
   "id": "3f3b6ffa",
   "metadata": {
    "scrolled": false
   },
   "outputs": [
    {
     "data": {
      "image/png": "[encoded data removed]",
      "text/plain": [
       "<Figure size 432x288 with 2 Axes>"
      ]
     },
     "metadata": {
      "needs_background": "light"
     },
     "output_type": "display_data"
    }
   ],
   "source": [
    "plot_confusion_matrix(rfc_smote, Xs_test, y_test, cmap='inferno');"
   ]
  },
  {
   "cell_type": "markdown",
   "id": "35b6252c",
   "metadata": {},
   "source": [
    "### Modeling with RandomOversampler due to imbalanced classes"
   ]
  },
  {
   "cell_type": "code",
   "execution_count": 19,
   "id": "1848b4e0",
   "metadata": {},
   "outputs": [
    {
     "data": {
      "text/plain": [
       "(0.86059670781893, 0.7142857142857143)"
      ]
     },
     "execution_count": 19,
     "metadata": {},
     "output_type": "execute_result"
    }
   ],
   "source": [
    "ros = RandomOverSampler()\n",
    "Xs_train_over, y_train_over = ros.fit_resample(Xs_train, y_train)\n",
    "\n",
    "rfc_ros = RandomForestClassifier(max_depth=6)\n",
    "rfc_ros.fit(Xs_train_over, y_train_over)\n",
    "rfc_ros.score(Xs_train_over, y_train_over), rfc_ros.score(Xs_test, y_test)"
   ]
  },
  {
   "cell_type": "code",
   "execution_count": 20,
   "id": "e2741118",
   "metadata": {},
   "outputs": [
    {
     "data": {
      "text/html": [
       "<div>\n",
       "<style scoped>\n",
       "    .dataframe tbody tr th:only-of-type {\n",
       "        vertical-align: middle;\n",
       "    }\n",
       "\n",
       "    .dataframe tbody tr th {\n",
       "        vertical-align: top;\n",
       "    }\n",
       "\n",
       "    .dataframe thead th {\n",
       "        text-align: right;\n",
       "    }\n",
       "</style>\n",
       "<table border=\"1\" class=\"dataframe\">\n",
       "  <thead>\n",
       "    <tr style=\"text-align: right;\">\n",
       "      <th></th>\n",
       "      <th>Column Name</th>\n",
       "      <th>Feature Importance</th>\n",
       "    </tr>\n",
       "  </thead>\n",
       "  <tbody>\n",
       "    <tr>\n",
       "      <th>0</th>\n",
       "      <td>age</td>\n",
       "      <td>0.513987</td>\n",
       "    </tr>\n",
       "    <tr>\n",
       "      <th>4</th>\n",
       "      <td>bmi</td>\n",
       "      <td>0.099547</td>\n",
       "    </tr>\n",
       "    <tr>\n",
       "      <th>7</th>\n",
       "      <td>ever_married_Yes</td>\n",
       "      <td>0.099140</td>\n",
       "    </tr>\n",
       "    <tr>\n",
       "      <th>3</th>\n",
       "      <td>avg_glucose_level</td>\n",
       "      <td>0.099072</td>\n",
       "    </tr>\n",
       "    <tr>\n",
       "      <th>1</th>\n",
       "      <td>hypertension</td>\n",
       "      <td>0.055889</td>\n",
       "    </tr>\n",
       "    <tr>\n",
       "      <th>11</th>\n",
       "      <td>work_type_children</td>\n",
       "      <td>0.038509</td>\n",
       "    </tr>\n",
       "    <tr>\n",
       "      <th>2</th>\n",
       "      <td>heart_disease</td>\n",
       "      <td>0.032218</td>\n",
       "    </tr>\n",
       "    <tr>\n",
       "      <th>5</th>\n",
       "      <td>smoking_status</td>\n",
       "      <td>0.027279</td>\n",
       "    </tr>\n",
       "    <tr>\n",
       "      <th>10</th>\n",
       "      <td>work_type_Self-employed</td>\n",
       "      <td>0.014274</td>\n",
       "    </tr>\n",
       "    <tr>\n",
       "      <th>9</th>\n",
       "      <td>work_type_Private</td>\n",
       "      <td>0.007205</td>\n",
       "    </tr>\n",
       "  </tbody>\n",
       "</table>\n",
       "</div>"
      ],
      "text/plain": [
       "                Column Name  Feature Importance\n",
       "0                       age            0.513987\n",
       "4                       bmi            0.099547\n",
       "7          ever_married_Yes            0.099140\n",
       "3         avg_glucose_level            0.099072\n",
       "1              hypertension            0.055889\n",
       "11       work_type_children            0.038509\n",
       "2             heart_disease            0.032218\n",
       "5            smoking_status            0.027279\n",
       "10  work_type_Self-employed            0.014274\n",
       "9         work_type_Private            0.007205"
      ]
     },
     "execution_count": 20,
     "metadata": {},
     "output_type": "execute_result"
    }
   ],
   "source": [
    "d = {'Column Name': X_train.columns,'Feature Importance':rfc_ros.feature_importances_}\n",
    "fi = pd.DataFrame(d)\n",
    "\n",
    "#top 10 features of importance\n",
    "fi.sort_values(by=['Feature Importance'], ascending = False).head(10)"
   ]
  },
  {
   "cell_type": "code",
   "execution_count": 21,
   "id": "c8ba2c65",
   "metadata": {},
   "outputs": [
    {
     "name": "stdout",
     "output_type": "stream",
     "text": [
      "              precision    recall  f1-score   support\n",
      "\n",
      "           0       0.98      0.71      0.83      1944\n",
      "           1       0.12      0.78      0.21       100\n",
      "\n",
      "    accuracy                           0.71      2044\n",
      "   macro avg       0.55      0.75      0.52      2044\n",
      "weighted avg       0.94      0.71      0.80      2044\n",
      "\n"
     ]
    }
   ],
   "source": [
    "print(classification_report(y_test, rfc_ros.predict(Xs_test)))"
   ]
  },
  {
   "cell_type": "code",
   "execution_count": 22,
   "id": "387cbd8a",
   "metadata": {
    "scrolled": false
   },
   "outputs": [
    {
     "data": {
      "image/png": "[encoded data removed]",
      "text/plain": [
       "<Figure size 432x288 with 2 Axes>"
      ]
     },
     "metadata": {
      "needs_background": "light"
     },
     "output_type": "display_data"
    }
   ],
   "source": [
    "plot_confusion_matrix(rfc_ros, Xs_test, y_test, cmap='inferno');"
   ]
  },
  {
   "cell_type": "markdown",
   "id": "cecfd8c5",
   "metadata": {},
   "source": [
    "### Random UnderSampler:"
   ]
  },
  {
   "cell_type": "code",
   "execution_count": 23,
   "id": "84ce0244",
   "metadata": {},
   "outputs": [
    {
     "data": {
      "text/plain": [
       "(1.0, 0.7343444227005871)"
      ]
     },
     "execution_count": 23,
     "metadata": {},
     "output_type": "execute_result"
    }
   ],
   "source": [
    "rus = RandomUnderSampler()\n",
    "\n",
    "Xs_train_under, y_train_under = rus.fit_resample(Xs_train, y_train)\n",
    "\n",
    "rfc_rus = RandomForestClassifier(max_depth=10)\n",
    "rfc_rus.fit(Xs_train_under, y_train_under)\n",
    "rfc_rus.score(Xs_train_under, y_train_under), rfc_rus.score(Xs_test, y_test)"
   ]
  },
  {
   "cell_type": "code",
   "execution_count": 24,
   "id": "de390515",
   "metadata": {
    "scrolled": true
   },
   "outputs": [
    {
     "name": "stdout",
     "output_type": "stream",
     "text": [
      "              precision    recall  f1-score   support\n",
      "\n",
      "           0       0.99      0.73      0.84      1944\n",
      "           1       0.13      0.80      0.23       100\n",
      "\n",
      "    accuracy                           0.73      2044\n",
      "   macro avg       0.56      0.77      0.53      2044\n",
      "weighted avg       0.94      0.73      0.81      2044\n",
      "\n"
     ]
    }
   ],
   "source": [
    "print(classification_report(y_test, rfc_rus.predict(Xs_test)))"
   ]
  },
  {
   "cell_type": "code",
   "execution_count": 25,
   "id": "c6dc4613",
   "metadata": {},
   "outputs": [
    {
     "data": {
      "image/png": "[encoded data removed]",
      "text/plain": [
       "<Figure size 432x288 with 2 Axes>"
      ]
     },
     "metadata": {
      "needs_background": "light"
     },
     "output_type": "display_data"
    }
   ],
   "source": [
    "plot_confusion_matrix(rfc_rus, Xs_test, y_test, cmap='inferno');"
   ]
  },
  {
   "cell_type": "markdown",
   "id": "cc2d4b06",
   "metadata": {},
   "source": [
    "## Comparison of Imbalanced Models"
   ]
  },
  {
   "attachments": {},
   "cell_type": "markdown",
   "id": "79e26f54",
   "metadata": {},
   "source": [
    "![imb comparison](./images/imbalanced_comparison.jpeg) "
   ]
  },
  {
   "cell_type": "markdown",
   "id": "fbcda233",
   "metadata": {},
   "source": [
    "Baseline model was a random forest classifier\n",
    "-Control is funny, it just decided to predict all non-stroke victims and wow 95% accuracy! But 100 people now in danger of having a stroke.\n",
    "\n",
    "Relatively speaking they all performed similarly, oversampling edged out with scoring in the metrics and will be used for finding the best model."
   ]
  },
  {
   "cell_type": "code",
   "execution_count": 44,
   "id": "299cae08",
   "metadata": {},
   "outputs": [
    {
     "data": {
      "text/plain": [
       "(0    0.951387\n",
       " 1    0.048613\n",
       " Name: stroke, dtype: float64,\n",
       " 0    0.5\n",
       " 1    0.5\n",
       " Name: stroke, dtype: float64)"
      ]
     },
     "execution_count": 44,
     "metadata": {},
     "output_type": "execute_result"
    }
   ],
   "source": [
    "y_train.value_counts(normalize=Tbrue), y_train_over.value_counts(normalize=True)"
   ]
  },
  {
   "cell_type": "markdown",
   "id": "fd623e25",
   "metadata": {},
   "source": [
    "**Note: Baseline Accuracy Scores**\n",
    "- 95% without oversampling\n",
    "- 50% with oversampling"
   ]
  },
  {
   "cell_type": "markdown",
   "id": "ff45bd0f",
   "metadata": {},
   "source": [
    "# Experimenting with Different Classification Models"
   ]
  },
  {
   "cell_type": "markdown",
   "id": "17beaa7a",
   "metadata": {},
   "source": [
    "- Random Forest Classifier\n",
    "- Logistic Regression\n",
    "- Support Vector Machine (SVM)\n",
    "- K Nearest Neighbor\n",
    "- Decision Tree\n",
    "- Extremely Randomized Trees (ExtraTrees)\n",
    "- Naive Bayes\n",
    "- XGBoost\n",
    "- Possible neural network for tinkering purposes"
   ]
  },
  {
   "cell_type": "markdown",
   "id": "d3e60b05",
   "metadata": {},
   "source": [
    "#### Logistic regression"
   ]
  },
  {
   "cell_type": "code",
   "execution_count": 27,
   "id": "69887c05",
   "metadata": {
    "scrolled": true
   },
   "outputs": [
    {
     "name": "stderr",
     "output_type": "stream",
     "text": [
      "/Users/plarkin/opt/anaconda3/lib/python3.8/site-packages/sklearn/model_selection/_search.py:285: UserWarning: The total space of parameters 4 is smaller than n_iter=10. Running 4 iterations. For exhaustive searches, use GridSearchCV.\n",
      "  warnings.warn(\n"
     ]
    },
    {
     "name": "stdout",
     "output_type": "stream",
     "text": [
      "Best Training Score 0.842\n",
      "Best Test Score:  0.8190476190476191\n",
      "Best Params:  {'sampling__sampling_strategy': 'auto', 'lr__class_weight': 'balanced', 'lr__C': 0.01}\n"
     ]
    }
   ],
   "source": [
    "from sklearn.linear_model import LogisticRegression\n",
    "lr_pipe = Pipeline([\n",
    "        ('scale', StandardScaler()),\n",
    "        ('sampling', RandomOverSampler(random_state=42)),\n",
    "        ('lr', LogisticRegression(max_iter = 5000, class_weight='balanced'))\n",
    "    ])\n",
    "\n",
    "lr_pipe_params = {\n",
    "    'sampling__sampling_strategy': ['auto', 0.75],\n",
    "    'lr__C': [0.001, 0.01],\n",
    "    'lr__class_weight': ['balanced']\n",
    "    \n",
    "}\n",
    "lr_gs = RandomizedSearchCV(lr_pipe, lr_pipe_params, scoring = 'recall', cv = 3, return_train_score= True)\n",
    "lr_gs.fit(X_train, y_train)\n",
    "lr_preds_gs = lr_gs.predict(X_test)\n",
    "print(\"Best Training Score\", round(lr_gs.cv_results_['mean_train_score'].max(),3))\n",
    "print(\"Best Test Score: \", lr_gs.best_score_)\n",
    "print(\"Best Params: \", lr_gs.best_params_)"
   ]
  },
  {
   "cell_type": "code",
   "execution_count": 28,
   "id": "aaca5fda",
   "metadata": {
    "scrolled": false
   },
   "outputs": [
    {
     "name": "stdout",
     "output_type": "stream",
     "text": [
      "Recall score for this data 0.0,\n",
      "Accuracy score for this data is 0.95\n"
     ]
    },
    {
     "data": {
      "image/png": "[encoded data removed]",
      "text/plain": [
       "<Figure size 432x288 with 2 Axes>"
      ]
     },
     "metadata": {
      "needs_background": "light"
     },
     "output_type": "display_data"
    }
   ],
   "source": [
    "get_metrics(lr_gs);"
   ]
  },
  {
   "cell_type": "code",
   "execution_count": 29,
   "id": "34a4ffcf",
   "metadata": {},
   "outputs": [
    {
     "name": "stdout",
     "output_type": "stream",
     "text": [
      "0.7825788751714677, 0.7314090019569471\n",
      "Recall score for this data 0.79,\n",
      "Accuracy score for this data is 0.73\n"
     ]
    },
    {
     "data": {
      "image/png": "[encoded data removed]",
      "text/plain": [
       "<Figure size 432x288 with 2 Axes>"
      ]
     },
     "metadata": {
      "needs_background": "light"
     },
     "output_type": "display_data"
    }
   ],
   "source": [
    "#trying out best params with locallized oversampling\n",
    "\n",
    "lr_ros = LogisticRegression(class_weight='balanced',C=0.01)\n",
    "lr_ros.fit(Xs_train_over, y_train_over)\n",
    "print(f'{lr_ros.score(Xs_train_over, y_train_over)}, {lr_ros.score(Xs_test, y_test)}')\n",
    "get_metrics(lr_ros);"
   ]
  },
  {
   "cell_type": "markdown",
   "id": "7619d864",
   "metadata": {},
   "source": [
    "#### Decision Tree"
   ]
  },
  {
   "cell_type": "code",
   "execution_count": 30,
   "id": "a159d288",
   "metadata": {
    "scrolled": false
   },
   "outputs": [
    {
     "name": "stdout",
     "output_type": "stream",
     "text": [
      "Best Training Score 1.0\n",
      "Best Test Score:  0.852\n",
      "Best Params:  {'sampling__sampling_strategy': 0.75, 'dt__min_samples_split': 4, 'dt__min_samples_leaf': 2, 'dt__max_depth': 3}\n"
     ]
    }
   ],
   "source": [
    "from sklearn.tree import DecisionTreeClassifier\n",
    "from sklearn.svm import SVC\n",
    "dt_pipe = Pipeline([\n",
    "        ('scale', StandardScaler()),\n",
    "        ('sampling', RandomOverSampler(random_state=42)),\n",
    "        ('dt', DecisionTreeClassifier(random_state = 42, class_weight= 'balanced')) #adding class weight due to imbalanced target data\n",
    "    ])\n",
    "\n",
    "dt_pipe_params = {\n",
    "    'sampling__sampling_strategy': ['auto', 0.75],\n",
    "    'dt__max_depth': [None, 3, 5],\n",
    "    'dt__min_samples_split': [3,4,5],\n",
    "    'dt__min_samples_leaf' : [1,2],\n",
    "    \n",
    "}\n",
    "dt_gs = RandomizedSearchCV(dt_pipe, dt_pipe_params, scoring = 'recall', cv = 3, return_train_score= True)\n",
    "dt_gs.fit(X_train, y_train)\n",
    "dt_preds_gs = dt_gs.predict(X_test)\n",
    "print(\"Best Training Score\", round(dt_gs.cv_results_['mean_train_score'].max(),3))\n",
    "print(\"Best Test Score: \", round(dt_gs.best_score_,3))\n",
    "print(\"Best Params: \", dt_gs.best_params_)\n"
   ]
  },
  {
   "cell_type": "code",
   "execution_count": 31,
   "id": "e3559031",
   "metadata": {
    "scrolled": true
   },
   "outputs": [
    {
     "name": "stdout",
     "output_type": "stream",
     "text": [
      "Recall score for this data 0.0,\n",
      "Accuracy score for this data is 0.95\n"
     ]
    },
    {
     "data": {
      "image/png": "[encoded data removed]",
      "text/plain": [
       "<Figure size 432x288 with 2 Axes>"
      ]
     },
     "metadata": {
      "needs_background": "light"
     },
     "output_type": "display_data"
    }
   ],
   "source": [
    "get_metrics(dt_gs);"
   ]
  },
  {
   "cell_type": "code",
   "execution_count": 32,
   "id": "f051227b",
   "metadata": {},
   "outputs": [
    {
     "name": "stdout",
     "output_type": "stream",
     "text": [
      "0.8016117969821673, 0.6506849315068494\n",
      "Recall score for this data 0.85,\n",
      "Accuracy score for this data is 0.65\n"
     ]
    },
    {
     "data": {
      "image/png": "[encoded data removed]",
      "text/plain": [
       "<Figure size 432x288 with 2 Axes>"
      ]
     },
     "metadata": {
      "needs_background": "light"
     },
     "output_type": "display_data"
    }
   ],
   "source": [
    "#trying out best params with locallized oversampling\n",
    "\n",
    "dt_ros = DecisionTreeClassifier(random_state = 42, class_weight= 'balanced',min_samples_split =4, min_samples_leaf =1, max_depth= 3)\n",
    "dt_ros.fit(Xs_train_over, y_train_over)\n",
    "print(f'{dt_ros.score(Xs_train_over, y_train_over)}, {dt_ros.score(Xs_test, y_test)}')\n",
    "get_metrics(dt_ros);"
   ]
  },
  {
   "cell_type": "code",
   "execution_count": 33,
   "id": "2db3eedd",
   "metadata": {},
   "outputs": [
    {
     "data": {
      "text/html": [
       "<div>\n",
       "<style scoped>\n",
       "    .dataframe tbody tr th:only-of-type {\n",
       "        vertical-align: middle;\n",
       "    }\n",
       "\n",
       "    .dataframe tbody tr th {\n",
       "        vertical-align: top;\n",
       "    }\n",
       "\n",
       "    .dataframe thead th {\n",
       "        text-align: right;\n",
       "    }\n",
       "</style>\n",
       "<table border=\"1\" class=\"dataframe\">\n",
       "  <thead>\n",
       "    <tr style=\"text-align: right;\">\n",
       "      <th></th>\n",
       "      <th>Column Name</th>\n",
       "      <th>Feature Importance</th>\n",
       "    </tr>\n",
       "  </thead>\n",
       "  <tbody>\n",
       "    <tr>\n",
       "      <th>0</th>\n",
       "      <td>age</td>\n",
       "      <td>0.921759</td>\n",
       "    </tr>\n",
       "    <tr>\n",
       "      <th>4</th>\n",
       "      <td>bmi</td>\n",
       "      <td>0.064311</td>\n",
       "    </tr>\n",
       "    <tr>\n",
       "      <th>1</th>\n",
       "      <td>hypertension</td>\n",
       "      <td>0.007717</td>\n",
       "    </tr>\n",
       "    <tr>\n",
       "      <th>3</th>\n",
       "      <td>avg_glucose_level</td>\n",
       "      <td>0.006213</td>\n",
       "    </tr>\n",
       "    <tr>\n",
       "      <th>2</th>\n",
       "      <td>heart_disease</td>\n",
       "      <td>0.000000</td>\n",
       "    </tr>\n",
       "    <tr>\n",
       "      <th>5</th>\n",
       "      <td>smoking_status</td>\n",
       "      <td>0.000000</td>\n",
       "    </tr>\n",
       "    <tr>\n",
       "      <th>6</th>\n",
       "      <td>gender_Male</td>\n",
       "      <td>0.000000</td>\n",
       "    </tr>\n",
       "    <tr>\n",
       "      <th>7</th>\n",
       "      <td>ever_married_Yes</td>\n",
       "      <td>0.000000</td>\n",
       "    </tr>\n",
       "    <tr>\n",
       "      <th>8</th>\n",
       "      <td>work_type_Never_worked</td>\n",
       "      <td>0.000000</td>\n",
       "    </tr>\n",
       "    <tr>\n",
       "      <th>9</th>\n",
       "      <td>work_type_Private</td>\n",
       "      <td>0.000000</td>\n",
       "    </tr>\n",
       "  </tbody>\n",
       "</table>\n",
       "</div>"
      ],
      "text/plain": [
       "              Column Name  Feature Importance\n",
       "0                     age            0.921759\n",
       "4                     bmi            0.064311\n",
       "1            hypertension            0.007717\n",
       "3       avg_glucose_level            0.006213\n",
       "2           heart_disease            0.000000\n",
       "5          smoking_status            0.000000\n",
       "6             gender_Male            0.000000\n",
       "7        ever_married_Yes            0.000000\n",
       "8  work_type_Never_worked            0.000000\n",
       "9       work_type_Private            0.000000"
      ]
     },
     "execution_count": 33,
     "metadata": {},
     "output_type": "execute_result"
    }
   ],
   "source": [
    "d = {'Column Name': X_train.columns,'Feature Importance':dt_ros.feature_importances_}\n",
    "fi = pd.DataFrame(d)\n",
    "\n",
    "#top 10 features of importance\n",
    "fi.sort_values(by=['Feature Importance'], ascending = False).head(10)"
   ]
  },
  {
   "cell_type": "markdown",
   "id": "2fd6f1b6",
   "metadata": {},
   "source": [
    "#### Extremely Randomized Trees (ExtraTrees)\n"
   ]
  },
  {
   "cell_type": "code",
   "execution_count": 34,
   "id": "a7d80c45",
   "metadata": {},
   "outputs": [
    {
     "name": "stdout",
     "output_type": "stream",
     "text": [
      "Best Training Score 1.0\n",
      "Best Test Score:  0.852\n",
      "Best Params:  {'sampling__sampling_strategy': 0.75, 'dt__min_samples_split': 5, 'dt__min_samples_leaf': 2, 'dt__max_depth': 3}\n"
     ]
    }
   ],
   "source": [
    "from sklearn.ensemble  import ExtraTreesClassifier\n",
    "\n",
    "extt_pipe = Pipeline([\n",
    "        ('scale', StandardScaler()),\n",
    "        ('sampling', RandomOverSampler(random_state=42)),\n",
    "        ('dt', DecisionTreeClassifier(random_state = 42, class_weight= 'balanced')) #adding class weight due to imbalanced target data\n",
    "    ])\n",
    "\n",
    "extt_pipe_params = {\n",
    "    'sampling__sampling_strategy': ['auto', 0.75],\n",
    "    'dt__max_depth': [None, 3, 5],\n",
    "    'dt__min_samples_split': [3,4,5],\n",
    "    'dt__min_samples_leaf' : [1,2],\n",
    "    \n",
    "}\n",
    "extt_gs = RandomizedSearchCV(extt_pipe, extt_pipe_params, scoring = 'recall', cv = 3, return_train_score=True)\n",
    "extt_gs.fit(X_train, y_train)\n",
    "extt_preds_gs = extt_gs.predict(X_test)\n",
    "print(\"Best Training Score\", round(extt_gs.cv_results_['mean_train_score'].max(),3))\n",
    "print(\"Best Test Score: \", round(extt_gs.best_score_,3))\n",
    "print(\"Best Params: \", extt_gs.best_params_)\n",
    "\n"
   ]
  },
  {
   "cell_type": "code",
   "execution_count": 35,
   "id": "9ad3126c",
   "metadata": {
    "scrolled": true
   },
   "outputs": [
    {
     "name": "stdout",
     "output_type": "stream",
     "text": [
      "Recall score for this data 0.0,\n",
      "Accuracy score for this data is 0.95\n"
     ]
    },
    {
     "data": {
      "image/png": "[encoded data removed]",
      "text/plain": [
       "<Figure size 432x288 with 2 Axes>"
      ]
     },
     "metadata": {
      "needs_background": "light"
     },
     "output_type": "display_data"
    }
   ],
   "source": [
    "get_metrics(extt_gs);"
   ]
  },
  {
   "cell_type": "code",
   "execution_count": 36,
   "id": "08de153e",
   "metadata": {},
   "outputs": [
    {
     "name": "stdout",
     "output_type": "stream",
     "text": [
      "0.7813786008230452, 0.6345401174168297\n",
      "Recall score for this data 0.84,\n",
      "Accuracy score for this data is 0.63\n"
     ]
    },
    {
     "data": {
      "image/png": "[encoded data removed]",
      "text/plain": [
       "<Figure size 432x288 with 2 Axes>"
      ]
     },
     "metadata": {
      "needs_background": "light"
     },
     "output_type": "display_data"
    }
   ],
   "source": [
    "#trying out best params with locallized oversampling\n",
    "\n",
    "extt_ros = ExtraTreesClassifier(random_state = 42, class_weight= 'balanced',min_samples_split =3, min_samples_leaf =1, max_depth= 3)\n",
    "extt_ros.fit(Xs_train_over, y_train_over)\n",
    "print(f'{extt_ros.score(Xs_train_over, y_train_over)}, {extt_ros.score(Xs_test, y_test)}')\n",
    "get_metrics(extt_ros);\n"
   ]
  },
  {
   "cell_type": "markdown",
   "id": "bad7b91f",
   "metadata": {},
   "source": [
    "#### Support Vector Machine (SVM)\n"
   ]
  },
  {
   "cell_type": "code",
   "execution_count": 37,
   "id": "a98d5955",
   "metadata": {},
   "outputs": [
    {
     "name": "stderr",
     "output_type": "stream",
     "text": [
      "/Users/plarkin/opt/anaconda3/lib/python3.8/site-packages/sklearn/model_selection/_search.py:285: UserWarning: The total space of parameters 8 is smaller than n_iter=10. Running 8 iterations. For exhaustive searches, use GridSearchCV.\n",
      "  warnings.warn(\n"
     ]
    },
    {
     "name": "stdout",
     "output_type": "stream",
     "text": [
      "Best Training Score 0.909\n",
      "Best Test Score:  0.919\n",
      "Best Params:  {'svc__kernel': 'sigmoid', 'svc__C': 0.01, 'sampling__sampling_strategy': 'auto'}\n"
     ]
    }
   ],
   "source": [
    "from sklearn.svm import SVC\n",
    "svc_pipe = Pipeline([\n",
    "        ('scale', StandardScaler()),\n",
    "        ('sampling', RandomOverSampler(random_state=42)),\n",
    "        ('svc', SVC(gamma=\"scale\"))\n",
    "    ])\n",
    "\n",
    "svc_pipe_params = {\n",
    "    'sampling__sampling_strategy': ['auto', 0.75],\n",
    "    'svc__C': [0.001, 0.01],\n",
    "    'svc__kernel': ['rbf', 'sigmoid']\n",
    "    \n",
    "}\n",
    "svc_gs = RandomizedSearchCV(svc_pipe, svc_pipe_params, scoring = 'recall', cv = 3, return_train_score=True)\n",
    "svc_gs.fit(X_train, y_train)\n",
    "svc_preds_gs = svc_gs.predict(X_test)\n",
    "\n",
    "print(\"Best Training Score\", round(svc_gs.cv_results_['mean_train_score'].max(),3))\n",
    "print(\"Best Test Score: \", round(svc_gs.best_score_,3))\n",
    "print(\"Best Params: \", svc_gs.best_params_)\n"
   ]
  },
  {
   "cell_type": "code",
   "execution_count": 38,
   "id": "fd006bfb",
   "metadata": {
    "scrolled": true
   },
   "outputs": [
    {
     "name": "stdout",
     "output_type": "stream",
     "text": [
      "Recall score for this data 0.05,\n",
      "Accuracy score for this data is 0.93\n"
     ]
    },
    {
     "data": {
      "image/png": "[encoded data removed]",
      "text/plain": [
       "<Figure size 432x288 with 2 Axes>"
      ]
     },
     "metadata": {
      "needs_background": "light"
     },
     "output_type": "display_data"
    }
   ],
   "source": [
    "get_metrics(svc_gs);"
   ]
  },
  {
   "cell_type": "code",
   "execution_count": 39,
   "id": "44a97bdc",
   "metadata": {},
   "outputs": [
    {
     "name": "stdout",
     "output_type": "stream",
     "text": [
      "0.7738340192043895, 0.6477495107632094\n",
      "Recall score for this data 0.83,\n",
      "Accuracy score for this data is 0.65\n"
     ]
    },
    {
     "data": {
      "image/png": "[encoded data removed]",
      "text/plain": [
       "<Figure size 432x288 with 2 Axes>"
      ]
     },
     "metadata": {
      "needs_background": "light"
     },
     "output_type": "display_data"
    }
   ],
   "source": [
    "#trying out best params with locallized oversampling\n",
    "\n",
    "svc_ros = SVC(gamma=\"scale\", C=0.01,kernel='sigmoid')\n",
    "svc_ros.fit(Xs_train_over, y_train_over)\n",
    "print(f'{svc_ros.score(Xs_train_over, y_train_over)}, {svc_ros.score(Xs_test, y_test)}')\n",
    "get_metrics(svc_ros);\n"
   ]
  },
  {
   "cell_type": "markdown",
   "id": "7e6acc27",
   "metadata": {},
   "source": [
    "#### K Nearest Neighbor (KNN)"
   ]
  },
  {
   "cell_type": "code",
   "execution_count": 40,
   "id": "293c79fb",
   "metadata": {},
   "outputs": [
    {
     "name": "stdout",
     "output_type": "stream",
     "text": [
      "Best Training Score 1.0\n",
      "Best Test Score:  0.348\n",
      "Best Params:  {'sampling__sampling_strategy': 'auto', 'knn__weights': 'uniform', 'knn__p': 1, 'knn__n_neighbors': 7}\n"
     ]
    }
   ],
   "source": [
    "from sklearn.neighbors import KNeighborsClassifier\n",
    "knn_pipe = Pipeline([\n",
    "        ('scale', StandardScaler()),\n",
    "        ('sampling', RandomOverSampler(random_state=42)),\n",
    "        ('knn', KNeighborsClassifier())\n",
    "    ])\n",
    "\n",
    "knn_pipe_params = {\n",
    "    'sampling__sampling_strategy': ['auto', 0.75],\n",
    "    'knn__weights': ['uniform', 'distance'],\n",
    "    'knn__n_neighbors': [3,5,7],\n",
    "    'knn__p' : [1,2]\n",
    "    \n",
    "}\n",
    "knn_gs = RandomizedSearchCV(knn_pipe, knn_pipe_params, scoring = 'recall', cv = 3, return_train_score=True)\n",
    "knn_gs.fit(X_train, y_train)\n",
    "knn_preds_gs = knn_gs.predict(X_test)\n",
    "\n",
    "print(\"Best Training Score\", round(knn_gs.cv_results_['mean_train_score'].max(),3))\n",
    "print(\"Best Test Score: \", round(knn_gs.best_score_,3))\n",
    "print(\"Best Params: \", knn_gs.best_params_)\n",
    "\n"
   ]
  },
  {
   "cell_type": "code",
   "execution_count": 41,
   "id": "4b707ba8",
   "metadata": {},
   "outputs": [
    {
     "name": "stdout",
     "output_type": "stream",
     "text": [
      "Recall score for this data 0.07,\n",
      "Accuracy score for this data is 0.92\n"
     ]
    },
    {
     "data": {
      "image/png": "[encoded data removed]",
      "text/plain": [
       "<Figure size 432x288 with 2 Axes>"
      ]
     },
     "metadata": {
      "needs_background": "light"
     },
     "output_type": "display_data"
    }
   ],
   "source": [
    "get_metrics(knn_gs);"
   ]
  },
  {
   "cell_type": "code",
   "execution_count": 42,
   "id": "7a35c7ac",
   "metadata": {},
   "outputs": [
    {
     "name": "stdout",
     "output_type": "stream",
     "text": [
      "0.9391289437585734, 0.8233855185909981\n",
      "Recall score for this data 0.32,\n",
      "Accuracy score for this data is 0.82\n"
     ]
    },
    {
     "data": {
      "image/png": "[encoded data removed]",
      "text/plain": [
       "<Figure size 432x288 with 2 Axes>"
      ]
     },
     "metadata": {
      "needs_background": "light"
     },
     "output_type": "display_data"
    }
   ],
   "source": [
    "#trying out best params with locallized oversampling\n",
    "\n",
    "knn_ros = KNeighborsClassifier(weights= 'uniform',  p=1, n_neighbors=7)\n",
    "knn_ros.fit(Xs_train_over, y_train_over)\n",
    "print(f'{knn_ros.score(Xs_train_over, y_train_over)}, {knn_ros.score(Xs_test, y_test)}')\n",
    "get_metrics(knn_ros);\n"
   ]
  },
  {
   "cell_type": "markdown",
   "id": "c46a1418",
   "metadata": {},
   "source": [
    "#### Naive Bayes (not used since it is unable to handle negative numbers within features)"
   ]
  },
  {
   "cell_type": "markdown",
   "id": "77aededc",
   "metadata": {},
   "source": [
    "\n",
    "#### XGBoost"
   ]
  },
  {
   "cell_type": "code",
   "execution_count": 43,
   "id": "25f88f05",
   "metadata": {},
   "outputs": [
    {
     "ename": "NameError",
     "evalue": "name 'XGBClassifier' is not defined",
     "output_type": "error",
     "traceback": [
      "\u001b[0;31m---------------------------------------------------------------------------\u001b[0m",
      "\u001b[0;31mNameError\u001b[0m                                 Traceback (most recent call last)",
      "\u001b[0;32m/var/folders/xy/4mt37r492yq7r6qt5fnb02xr0000gn/T/ipykernel_5626/2200406060.py\u001b[0m in \u001b[0;36m<module>\u001b[0;34m\u001b[0m\n\u001b[1;32m      3\u001b[0m         \u001b[0;34m(\u001b[0m\u001b[0;34m'scale'\u001b[0m\u001b[0;34m,\u001b[0m \u001b[0mStandardScaler\u001b[0m\u001b[0;34m(\u001b[0m\u001b[0;34m)\u001b[0m\u001b[0;34m)\u001b[0m\u001b[0;34m,\u001b[0m\u001b[0;34m\u001b[0m\u001b[0;34m\u001b[0m\u001b[0m\n\u001b[1;32m      4\u001b[0m         \u001b[0;34m(\u001b[0m\u001b[0;34m'sampling'\u001b[0m\u001b[0;34m,\u001b[0m \u001b[0mRandomOverSampler\u001b[0m\u001b[0;34m(\u001b[0m\u001b[0mrandom_state\u001b[0m\u001b[0;34m=\u001b[0m\u001b[0;36m42\u001b[0m\u001b[0;34m)\u001b[0m\u001b[0;34m)\u001b[0m\u001b[0;34m,\u001b[0m\u001b[0;34m\u001b[0m\u001b[0;34m\u001b[0m\u001b[0m\n\u001b[0;32m----> 5\u001b[0;31m         \u001b[0;34m(\u001b[0m\u001b[0;34m'xgb'\u001b[0m\u001b[0;34m,\u001b[0m \u001b[0mXGBClassifier\u001b[0m\u001b[0;34m(\u001b[0m\u001b[0muse_label_encoder\u001b[0m\u001b[0;34m=\u001b[0m\u001b[0;32mFalse\u001b[0m\u001b[0;34m)\u001b[0m\u001b[0;34m)\u001b[0m\u001b[0;34m\u001b[0m\u001b[0;34m\u001b[0m\u001b[0m\n\u001b[0m\u001b[1;32m      6\u001b[0m     ])\n\u001b[1;32m      7\u001b[0m \u001b[0;34m\u001b[0m\u001b[0m\n",
      "\u001b[0;31mNameError\u001b[0m: name 'XGBClassifier' is not defined"
     ]
    }
   ],
   "source": [
    "xgb_pipe = Pipeline([\n",
    "        ('scale', StandardScaler()),\n",
    "        ('sampling', RandomOverSampler(random_state=42)),\n",
    "        ('xgb', XGBClassifier(use_label_encoder=False))\n",
    "    ])\n",
    "\n",
    "xgb_pipe_params = {\n",
    "    'sampling__sampling_strategy': ['auto', 0.75],\n",
    "    \n",
    "}\n",
    "xgb_gs = RandomizedSearchCV(xgb_pipe, xgb_pipe_params, scoring = 'recall', cv = 3, return_train_score=True)\n",
    "xgb_gs.fit(X_train, y_train)\n",
    "xgb_gs = xgb_gs.predict(X_test)\n",
    "print(\"Best Score: \", xgb_gs.best_score_)\n",
    "print(\"Best Params: \", xgb_gs.best_params_)\n",
    "get_metrics(xgb_gs);"
   ]
  },
  {
   "cell_type": "code",
   "execution_count": null,
   "id": "2f07e48f",
   "metadata": {},
   "outputs": [],
   "source": [
    "from xgboost import XGBClassifier\n",
    "#trying out best params with locallized oversampling\n",
    "\n",
    "knn_ros = KNeighborsClassifier(weights= 'uniform',  p=1, n_neighbors=7)\n",
    "knn_ros.fit(Xs_train_over, y_train_over)\n",
    "print(f'{knn_ros.score(Xs_train_over, y_train_over)}, {knn_ros.score(Xs_test, y_test)}')\n",
    "get_metrics(knn_ros);\n"
   ]
  },
  {
   "cell_type": "markdown",
   "id": "b44d1516",
   "metadata": {},
   "source": [
    "#### Possible neural network"
   ]
  },
  {
   "cell_type": "code",
   "execution_count": null,
   "id": "cfdfb6a3",
   "metadata": {},
   "outputs": [],
   "source": [
    "print(Xs_train.shape, y_train.shape)\n",
    "input_shape=Xs_train.shape\n",
    "# may need to reshape or do numpy array of X variable"
   ]
  },
  {
   "cell_type": "code",
   "execution_count": null,
   "id": "a6bb3475",
   "metadata": {},
   "outputs": [],
   "source": [
    "from tensorflow.keras.models import Sequential\n",
    "from tensorflow.keras.layers import Dense, Dropout, GRU #GRU = Gated Recurring Units\n",
    "from tensorflow.keras.preprocessing.sequence import TimeseriesGenerator\n",
    "\n",
    "model = Sequential()\n",
    "model.add(GRU(8, input_shape=input_shape, return_sequences=True)) # True if next layer is RNN\n",
    "model.add(GRU(8, return_sequences=False)) # False if next layer is Dense\n",
    "\n",
    "model.add(Dense(4, activation='relu'))\n",
    "\n",
    "model.add(Dense(1, activation='sigmoid'))\n",
    "\n",
    "model.compile(optimizer='adam', loss='bce', metrics=['recall'])\n",
    "\n",
    "early_stop = EarlyStopping(monitor='val_loss', min_delta=0, patience=5, verbose=0, mode='auto')\n",
    "\n",
    "history = model.fit(Xs_train, y_train, validation_data = (Xs_test, y_test),\n",
    "                 batch_size = 20, epochs = 200, verbose =1, callbacks=[early_stop])\n"
   ]
  },
  {
   "cell_type": "code",
   "execution_count": null,
   "id": "ab254cca",
   "metadata": {},
   "outputs": [],
   "source": [
    "# Check out our train loss and test loss over epochs.\n",
    "train_loss = history.history['loss']\n",
    "test_loss = history.history['val_loss']\n",
    "\n",
    "# Set figure size.\n",
    "plt.figure(figsize=(12, 8))\n",
    "\n",
    "# Generate line plot of training, testing loss over epochs.\n",
    "plt.plot(train_loss, label='Training Loss', color='#185fad')\n",
    "plt.plot(test_loss, label='Testing Loss', color='orange')\n",
    "\n",
    "# Set title\n",
    "plt.title('Training and Testing Loss by Epoch', fontsize = 25)\n",
    "plt.xlabel('Epoch', fontsize = 18)\n",
    "plt.ylabel('Categorical Crossentropy', fontsize = 18)\n",
    "\n",
    "plt.legend(fontsize = 18);"
   ]
  },
  {
   "cell_type": "code",
   "execution_count": null,
   "id": "04f6cd37",
   "metadata": {},
   "outputs": [],
   "source": [
    "max(history.history['val_accuracy'])"
   ]
  },
  {
   "cell_type": "markdown",
   "id": "d8a18c27",
   "metadata": {},
   "source": [
    "#### Ensemble model of all models?\n",
    "https://machinelearningmastery.com/ensemble-machine-learning-algorithms-python-scikit-learn/"
   ]
  },
  {
   "cell_type": "markdown",
   "id": "4681e000",
   "metadata": {},
   "source": [
    "### Pickle model for streamlit"
   ]
  },
  {
   "cell_type": "code",
   "execution_count": null,
   "id": "816c4a9e",
   "metadata": {},
   "outputs": [],
   "source": [
    "import pickle"
   ]
  },
  {
   "cell_type": "code",
   "execution_count": null,
   "id": "cd56a255",
   "metadata": {},
   "outputs": [],
   "source": [
    "with open('models/draft1.pkl', 'wb') as pickle_out:\n",
    "    pickle.dump(rfc_smote, pickle_out)"
   ]
  },
  {
   "cell_type": "code",
   "execution_count": null,
   "id": "d881c7f8",
   "metadata": {},
   "outputs": [],
   "source": [
    " with nopen('./models/draft1.pkl', 'rb') as pickle_in:\n",
    "        model = pickle.load(pickle_in)"
   ]
  },
  {
   "cell_type": "markdown",
   "id": "7501e976",
   "metadata": {},
   "source": [
    "Now open with VScode\n",
    "https://www.youtube.com/watch?v=Klqn--Mu2pE"
   ]
  },
  {
   "cell_type": "code",
   "execution_count": null,
   "id": "744df6e8",
   "metadata": {},
   "outputs": [],
   "source": []
  }
 ],
 "metadata": {
  "kernelspec": {
   "display_name": "Python 3 (ipykernel)",
   "language": "python",
   "name": "python3"
  },
  "language_info": {
   "codemirror_mode": {
    "name": "ipython",
    "version": 3
   },
   "file_extension": ".py",
   "mimetype": "text/x-python",
   "name": "python",
   "nbconvert_exporter": "python",
   "pygments_lexer": "ipython3",
   "version": "3.8.8"
  }
 },
 "nbformat": 4,
 "nbformat_minor": 5
}
